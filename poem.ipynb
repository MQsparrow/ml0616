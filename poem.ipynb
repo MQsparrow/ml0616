{
  "nbformat": 4,
  "nbformat_minor": 0,
  "metadata": {
    "colab": {
      "name": "poem.ipynb",
      "provenance": [],
      "authorship_tag": "ABX9TyM9l+As/Py9tUO1+uAL0ygP",
      "include_colab_link": true
    },
    "kernelspec": {
      "name": "python3",
      "display_name": "Python 3"
    },
    "language_info": {
      "name": "python"
    }
  },
  "cells": [
    {
      "cell_type": "markdown",
      "metadata": {
        "id": "view-in-github",
        "colab_type": "text"
      },
      "source": [
        "<a href=\"https://colab.research.google.com/github/MQsparrow/ml0616/blob/main/poem.ipynb\" target=\"_parent\"><img src=\"https://colab.research.google.com/assets/colab-badge.svg\" alt=\"Open In Colab\"/></a>"
      ]
    },
    {
      "cell_type": "code",
      "source": [
        "# python 每個資料潔具型態 執行語法 = 操作資料\n",
        "# dic[\"xxx\"] dic(型態) [\"xxx\"](操作)\n",
        "# int(4.2) int(函式型態)(未執行動作集合) (4.2)(操作)(執行一遍)\n",
        "a = int\n",
        "a(4.2)"
      ],
      "metadata": {
        "id": "u3D2jvKF8Gni",
        "colab": {
          "base_uri": "https://localhost:8080/"
        },
        "outputId": "3aeb57c5-778a-43cb-ea9b-7b0cc5763f73"
      },
      "execution_count": 1,
      "outputs": [
        {
          "output_type": "execute_result",
          "data": {
            "text/plain": [
              "4"
            ]
          },
          "metadata": {},
          "execution_count": 1
        }
      ]
    },
    {
      "cell_type": "code",
      "source": [
        "\"\"\"\n",
        "# 語法\n",
        "l = [1, 2, 3]\n",
        "newl = []\n",
        "for n in l:\n",
        "    newl.append(n ** 2)\n",
        "# 上三行合為一\n",
        "newl = [n ** 2 for n in l]\n",
        "newl\n",
        "\"\"\""
      ],
      "metadata": {
        "colab": {
          "base_uri": "https://localhost:8080/",
          "height": 35
        },
        "id": "pbbVcM3MFrvB",
        "outputId": "4a03083d-ae14-45b4-8000-18be83f49086"
      },
      "execution_count": 2,
      "outputs": [
        {
          "output_type": "execute_result",
          "data": {
            "text/plain": [
              "'\\n# 語法\\nl = [1, 2, 3]\\nnewl = []\\nfor n in l:\\n    newl.append(n ** 2)\\n# 上三行合為一\\nnewl = [n ** 2 for n in l]\\nnewl\\n'"
            ],
            "application/vnd.google.colaboratory.intrinsic+json": {
              "type": "string"
            }
          },
          "metadata": {},
          "execution_count": 2
        }
      ]
    },
    {
      "cell_type": "code",
      "source": [
        "\"\"\"\n",
        "names = [\"李白\", \"杜甫\", \"白居易\"]\n",
        "newdic = {}\n",
        "for i in range(len(names)):\n",
        "    newdic[names[i]] = i\n",
        "# 融合\n",
        "newdic = {names[i]:i for i in range(len(names))}\n",
        "newdic\n",
        "\"\"\""
      ],
      "metadata": {
        "colab": {
          "base_uri": "https://localhost:8080/",
          "height": 52
        },
        "id": "cP-hBWKKGfom",
        "outputId": "6ddc4147-8825-4cc1-a99f-35cd8dff2145"
      },
      "execution_count": 3,
      "outputs": [
        {
          "output_type": "execute_result",
          "data": {
            "text/plain": [
              "'\\nnames = [\"李白\", \"杜甫\", \"白居易\"]\\nnewdic = {}\\nfor i in range(len(names)):\\n    newdic[names[i]] = i\\n# 融合\\nnewdic = {names[i]:i for i in range(len(names))}\\nnewdic\\n'"
            ],
            "application/vnd.google.colaboratory.intrinsic+json": {
              "type": "string"
            }
          },
          "metadata": {},
          "execution_count": 3
        }
      ]
    },
    {
      "cell_type": "code",
      "execution_count": 4,
      "metadata": {
        "colab": {
          "base_uri": "https://localhost:8080/"
        },
        "id": "LDeP0Z2wCKBo",
        "outputId": "68cc7d0a-b754-4752-bd84-87e3fcff85d3"
      },
      "outputs": [
        {
          "output_type": "execute_result",
          "data": {
            "text/plain": [
              "('test.csv', <http.client.HTTPMessage at 0x7f332e142250>)"
            ]
          },
          "metadata": {},
          "execution_count": 4
        }
      ],
      "source": [
        "from urllib.request import urlretrieve\n",
        "url = \"https://raw.githubusercontent.com/Elwing-Chou/tibaml0606/main/poem_train.csv\"\n",
        "urlretrieve(url, \"train.csv\")\n",
        "url = \"https://raw.githubusercontent.com/Elwing-Chou/tibaml0606/main/poem_test.csv\"\n",
        "urlretrieve(url, \"test.csv\")"
      ]
    },
    {
      "cell_type": "code",
      "source": [
        "import jieba\n",
        "from urllib.request import urlretrieve\n",
        "url = \"https://github.com/fxsjy/jieba/raw/master/extra_dict/dict.txt.small\"\n",
        "urlretrieve(url, \"dict.txt.small\")\n",
        "jieba.set_dictionary(\"dict.txt.small\")"
      ],
      "metadata": {
        "id": "eM0BN68AJzQL"
      },
      "execution_count": 5,
      "outputs": []
    },
    {
      "cell_type": "code",
      "source": [
        "import pandas as pd\n",
        "import numpy as np\n",
        "train_df = pd.read_csv(\"train.csv\", encoding=\"utf-8\")\n",
        "test_df = pd.read_csv(\"test.csv\", encoding=\"utf-8\")"
      ],
      "metadata": {
        "id": "RfMOjemSDRYn"
      },
      "execution_count": 6,
      "outputs": []
    },
    {
      "cell_type": "code",
      "source": [
        "# 所有資料換為數字\n",
        "# Series.replace(字典)\n",
        "# Series.unique(): 回傳獨特值/Series.value_counts(): +出現次數\n",
        "names = train_df[\"作者\"].unique()\n",
        "name2idx = {names[i]:i for i in range(len(names))}\n",
        "idx2name = {i:names[i] for i in range(len(names))}\n",
        "print(name2idx)\n",
        "print(idx2name)"
      ],
      "metadata": {
        "colab": {
          "base_uri": "https://localhost:8080/"
        },
        "id": "OkG1paClE-3L",
        "outputId": "1a587db4-887b-4058-f996-97a041ff2495"
      },
      "execution_count": 7,
      "outputs": [
        {
          "output_type": "stream",
          "name": "stdout",
          "text": [
            "{'李白': 0, '杜甫': 1, '白居易': 2}\n",
            "{0: '李白', 1: '杜甫', 2: '白居易'}\n"
          ]
        }
      ]
    },
    {
      "cell_type": "code",
      "source": [
        "y_train = train_df[\"作者\"].replace(name2idx)\n",
        "y_test = test_df[\"作者\"].replace(name2idx)\n",
        "y_train = np.array(y_train)\n",
        "y_test = np.array(y_test)"
      ],
      "metadata": {
        "id": "FL3DTcW3InBx"
      },
      "execution_count": 8,
      "outputs": []
    },
    {
      "cell_type": "code",
      "source": [
        "# Series.apply(函式名稱)\n",
        "# p = \"日照香爐生紫煙，遙看瀑布掛前川。飛流直下三千尺，疑是銀河落九天。\"\n",
        "# \" \".join(jieba.cut(p))\n",
        "def change(p):\n",
        "    return \" \".join(jieba.cut(p))\n",
        "x_train = train_df[\"內容\"].apply(change)\n",
        "x_test = test_df[\"內容\"].apply(change)\n",
        "x_train"
      ],
      "metadata": {
        "colab": {
          "base_uri": "https://localhost:8080/"
        },
        "id": "dda0VzvN9OZs",
        "outputId": "c6db1146-8b29-404e-8de6-90552e1f990f"
      },
      "execution_count": 9,
      "outputs": [
        {
          "output_type": "stream",
          "name": "stderr",
          "text": [
            "Building prefix dict from /content/dict.txt.small ...\n",
            "Dumping model to file cache /tmp/jieba.u9f856c13ec2ea45ad21a8bfcc2b02fa4.cache\n",
            "Loading model cost 0.334 seconds.\n",
            "Prefix dict has been built successfully.\n"
          ]
        },
        {
          "output_type": "execute_result",
          "data": {
            "text/plain": [
              "0       平林 漠漠 煙如織 ， 寒山 一帶 傷心 碧 。 \\r\\n 暝 色入 高樓 ， 有人 樓上 ...\n",
              "1       青天 有 月 來 幾時 ， 我今 停杯 一問 之 ： 人攀 明月 不可 得 ， 月行 卻 與...\n",
              "2       燕草 如碧絲 ， 秦桑低 綠枝 。 當君 懷歸日 ， 是 妾 斷腸時 。 春風 不 相識 ，...\n",
              "3        誰家 玉笛 暗飛聲 ， 散 入春 風滿洛城 。 此 夜曲 中聞折 柳 ， 何人 不起 故園情 。\n",
              "4       西上 蓮 花山 ， 迢迢 見 明星 。 ( 西上   一作 ： 西 嶽 ) 素 手把 芙蓉 ...\n",
              "                              ...                        \n",
              "2726    零落 桐葉雨 ， 蕭條 槿 花風 。 悠悠 早秋意 ， 生此 幽閒 中 。 況 與 故人 彆...\n",
              "2727    離離 暑雲散 ， 嫋 嫋 涼風起 。 池上 秋 又 來 ， 荷花 半成 子 。 朱顏易銷 歇...\n",
              "2728    涼風 冷露 蕭索天 ， 黃 蒿 紫菊荒 涼田 。 繞 塚 秋花少 顏色 ， 細蟲 小蝶飛 翻...\n",
              "2729    往歲 曾 為 西邑吏 ， 慣 從 駱口 到 南秦 。 \\r\\n 三時 雲冷多 飛雪 ， 二月...\n",
              "2730    笛 竹出 蘄 春 ， 霜刀 劈翠筠 。 織成 雙鎖 簟 ， 寄 與 獨眠 人 。 卷作筒 中...\n",
              "Name: 內容, Length: 2731, dtype: object"
            ]
          },
          "metadata": {},
          "execution_count": 9
        }
      ]
    },
    {
      "cell_type": "code",
      "source": [
        "from sklearn.feature_extraction.text import CountVectorizer\n",
        "vec = CountVectorizer()\n",
        "x_train_count = vec.fit_transform(x_train)\n",
        "# !!!!\n",
        "x_test_count = vec.transform(x_test)"
      ],
      "metadata": {
        "id": "8itei2UsBFbL"
      },
      "execution_count": 10,
      "outputs": []
    },
    {
      "cell_type": "code",
      "source": [
        "# vec.vocabulary_\n",
        "# print(x_train_count)\n",
        "# sklearn -> sparse matrix: 僅儲存非0位置 (列, 行): 次數\n",
        "# 表格大 且 多位置為0時使用: 推薦系統\n",
        "x_train_count"
      ],
      "metadata": {
        "id": "hpetY82QBuut",
        "outputId": "876167c0-f8ef-47a6-a28a-db57b5643372",
        "colab": {
          "base_uri": "https://localhost:8080/"
        }
      },
      "execution_count": 11,
      "outputs": [
        {
          "output_type": "execute_result",
          "data": {
            "text/plain": [
              "<2731x52547 sparse matrix of type '<class 'numpy.int64'>'\n",
              "\twith 85327 stored elements in Compressed Sparse Row format>"
            ]
          },
          "metadata": {},
          "execution_count": 11
        }
      ]
    },
    {
      "cell_type": "code",
      "source": [
        "# 確認\",\", \".\", \"\\n\"是否被去掉\n",
        "# vec.vocabulary_[\"\\r\\n\"]\n",
        "{k:v for k, v in vec.vocabulary_.items() if v == 0}"
      ],
      "metadata": {
        "colab": {
          "base_uri": "https://localhost:8080/"
        },
        "id": "568_ZmJ7c8G7",
        "outputId": "366c89c6-f7f5-4359-ba5a-267f0d4645fd"
      },
      "execution_count": 12,
      "outputs": [
        {
          "output_type": "execute_result",
          "data": {
            "text/plain": [
              "{'198': 0}"
            ]
          },
          "metadata": {},
          "execution_count": 12
        }
      ]
    }
  ]
}