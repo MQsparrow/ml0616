{
  "cells": [
    {
      "cell_type": "markdown",
      "metadata": {
        "id": "view-in-github",
        "colab_type": "text"
      },
      "source": [
        "<a href=\"https://colab.research.google.com/github/MQsparrow/ml0616/blob/main/tools.ipynb\" target=\"_parent\"><img src=\"https://colab.research.google.com/assets/colab-badge.svg\" alt=\"Open In Colab\"/></a>"
      ]
    },
    {
      "cell_type": "code",
      "execution_count": 32,
      "metadata": {
        "colab": {
          "base_uri": "https://localhost:8080/"
        },
        "id": "uZvz6pB-viy7",
        "outputId": "275b04e4-1334-40b3-e45d-16eb8052b18b"
      },
      "outputs": [
        {
          "output_type": "stream",
          "name": "stdout",
          "text": [
            "Looking in indexes: https://pypi.org/simple, https://us-python.pkg.dev/colab-wheels/public/simple/\n",
            "Requirement already satisfied: opencc-python-reimplemented in /usr/local/lib/python3.7/dist-packages (0.1.6)\n"
          ]
        }
      ],
      "source": [
        "!pip install opencc-python-reimplemented"
      ]
    },
    {
      "cell_type": "code",
      "execution_count": 33,
      "metadata": {
        "colab": {
          "base_uri": "https://localhost:8080/",
          "height": 174
        },
        "id": "FMRRY2f3wX7D",
        "outputId": "17c13243-92fa-4fe9-f8ee-02913f92ecdd"
      },
      "outputs": [
        {
          "output_type": "execute_result",
          "data": {
            "text/plain": [
              "'作者：陳肖恩\\n鏈接：https://www.zhihu.com/question/30550891/answer/48502337\\n來源：知乎\\n著作權歸作者所有。商業轉載請聯繫作者獲得授權，非商業轉載請註明出處。\\n\\n不太確定你的瀏覽方式，我只能說已知的：WP有繁簡轉換機制，所有頁面的源碼都是一樣的（繁簡書寫混集），然後匿名用戶會根據瀏覽器的語言偏好設置挑選最接近的，如果是登陸用戶的話，則可以自行到用戶設置調整。如果什麼都沒有調整過（匿名沒zh系的語言偏好設置，登陸的沒改動過用戶設置），默認是zh-cn（大陸簡體）如果是匿名沒登陸的話，有可能是瀏覽器語言偏好沒設置對，是zh，對應的就是源碼模式，沒繁簡轉換處理的；或者你看的就是頁面就是源碼模式，地址如<zh.wp.org(省略)>/zh/<頁面名>。以上適用於PC網頁版；移動網頁版確認，使用PC網頁版同樣的機制；移動客戶端版是獨立開發，對於多書寫體系支持好像不太好，但暫時沒發現類似問題。附多一些東西：準確來說，WP的繁簡轉換分兩部分構成，字詞簡單繁簡替換和地區詞轉換，其實是同一個轉換程序跑兩次。整個語言代碼轉換分成三種：zh：源碼，內容是繁簡混集的zh-hant、zh-hans：繁簡模式，將zh的源碼轉換成純繁體字形或純簡體字形，使用的是內部自帶的轉換表（只針對字或少量詞）和可以在前臺配置的簡體與繁體轉換表。zh-hk、zh-cn、zh-tw、zh-mo、zh-sg：地區詞模式，將上面的結果針對不同地區在整理一次用詞差異，使用的是內部自帶的轉換表（只針對字或少量詞）和5個地區專用轉換表。以上是針對全站所有非特殊頁面（除Special和Mediawiki這兩個命名空間）的轉換，每個頁面也可以添加標記再調整一次轉換。'"
            ],
            "application/vnd.google.colaboratory.intrinsic+json": {
              "type": "string"
            }
          },
          "metadata": {},
          "execution_count": 33
        }
      ],
      "source": [
        "from opencc import OpenCC\n",
        "cc = OpenCC(\"s2tw\") # Simplified -> Traditional\n",
        "# call set_conversation -> set conversation\n",
        "# cc.set_conversation('s2tw')\n",
        "to_convert = \"\"\"作者：陈肖恩\n",
        "链接：https://www.zhihu.com/question/30550891/answer/48502337\n",
        "来源：知乎\n",
        "著作权归作者所有。商业转载请联系作者获得授权，非商业转载请注明出处。\n",
        "\n",
        "不太确定你的浏览方式，我只能说已知的：WP有繁简转换机制，所有页面的源码都是一样的（繁简书写混集），然后匿名用户会根据浏览器的语言偏好设置挑选最接近的，如果是登陆用户的话，则可以自行到用户设置调整。如果什么都没有调整过（匿名没zh系的语言偏好设置，登陆的没改动过用户设置），默认是zh-cn（大陆简体）如果是匿名没登陆的话，有可能是浏览器语言偏好没设置对，是zh，对应的就是源码模式，没繁简转换处理的；或者你看的就是页面就是源码模式，地址如<zh.wp.org(省略)>/zh/<页面名>。以上适用于PC网页版；移动网页版确认，使用PC网页版同样的机制；移动客户端版是独立开发，对于多书写体系支持好像不太好，但暂时没发现类似问题。附多一些东西：准确来说，WP的繁简转换分两部分构成，字词简单繁简替换和地区词转换，其实是同一个转换程序跑两次。整个语言代码转换分成三种：zh：源码，内容是繁简混集的zh-hant、zh-hans：繁简模式，将zh的源码转换成纯繁体字形或纯简体字形，使用的是内部自带的转换表（只针对字或少量词）和可以在前台配置的简体与繁体转换表。zh-hk、zh-cn、zh-tw、zh-mo、zh-sg：地区词模式，将上面的结果针对不同地区在整理一次用词差异，使用的是内部自带的转换表（只针对字或少量词）和5个地区专用转换表。以上是针对全站所有非特殊页面（除Special和Mediawiki这两个命名空间）的转换，每个页面也可以添加标记再调整一次转换。\"\"\"\n",
        "converted = cc.convert(to_convert)\n",
        "converted"
      ]
    },
    {
      "cell_type": "code",
      "execution_count": 34,
      "metadata": {
        "colab": {
          "base_uri": "https://localhost:8080/",
          "height": 157
        },
        "id": "EMwt9yewygvi",
        "outputId": "50768d4c-4ede-436f-daf0-625c3685a337"
      },
      "outputs": [
        {
          "output_type": "execute_result",
          "data": {
            "text/plain": [
              "'美國食品暨藥物管理局（FDA）周五緊急授權，針對5歲以下幼童可注射輝瑞（Pfizer）和莫德納（Moderna）製造的COVID-19疫苗。食藥署於昨召開專家會議，決議放行6個月至5歲兒童接種莫德納疫苗緊急授權。對此，台大前醫師林氏璧認為，「小小孩打疫苗應該也是可以防MIS-C。」至於家長們要選輝瑞還是莫德納？他也提供自己的看法供家長參考。\\n\\n林氏璧昨在臉書發文指出，要強調的是這是免疫橋接的研究，因此人數都不多。莫德納是4800人，輝瑞是3000人。「這裡主要是看到此劑量能達到和大人差不多的中和抗體，但關於有效性和安全性，都還看得不夠多。實際上施打之後的真實世界保護效益研究，還有不良事件的追蹤，非常重要。」\\n\\n林氏璧說，美國FDA若過了，接下來台灣應該很快也會通過小小孩疫苗的（莫德納昨通過EUA）。「你一定會問我小小孩疫苗可以防重症嗎？答案是理論上可以，但沒資料。因為這些臨床試驗收案人數少，產生案例少，根本沒有發生重症和死亡。會不會防腦炎？更無法回答，因為國外幾乎沒什麼兒童腦炎呀。但理論上我想是可以預防的。」\\n\\n最近MIS-C案例頻傳，林氏璧指出，「青少年和兒童已經有許多證據可以預防，小小孩打疫苗應該也是可以防MIS-C。」至於家長們應該選輝瑞還是莫德納？他表示，兩者資料目前很難互相比較。「我只能說：如果比較在乎有效性，建議打莫德納。如果比較在乎打完疫苗後發燒或不舒服，建議打輝瑞。」（即時新聞中心／綜合報導）'"
            ],
            "application/vnd.google.colaboratory.intrinsic+json": {
              "type": "string"
            }
          },
          "metadata": {},
          "execution_count": 34
        }
      ],
      "source": [
        "news = \"\"\"美國食品暨藥物管理局（FDA）周五緊急授權，針對5歲以下幼童可注射輝瑞（Pfizer）和莫德納（Moderna）製造的COVID-19疫苗。食藥署於昨召開專家會議，決議放行6個月至5歲兒童接種莫德納疫苗緊急授權。對此，台大前醫師林氏璧認為，「小小孩打疫苗應該也是可以防MIS-C。」至於家長們要選輝瑞還是莫德納？他也提供自己的看法供家長參考。\n",
        "\n",
        "林氏璧昨在臉書發文指出，要強調的是這是免疫橋接的研究，因此人數都不多。莫德納是4800人，輝瑞是3000人。「這裡主要是看到此劑量能達到和大人差不多的中和抗體，但關於有效性和安全性，都還看得不夠多。實際上施打之後的真實世界保護效益研究，還有不良事件的追蹤，非常重要。」\n",
        "\n",
        "林氏璧說，美國FDA若過了，接下來台灣應該很快也會通過小小孩疫苗的（莫德納昨通過EUA）。「你一定會問我小小孩疫苗可以防重症嗎？答案是理論上可以，但沒資料。因為這些臨床試驗收案人數少，產生案例少，根本沒有發生重症和死亡。會不會防腦炎？更無法回答，因為國外幾乎沒什麼兒童腦炎呀。但理論上我想是可以預防的。」\n",
        "\n",
        "最近MIS-C案例頻傳，林氏璧指出，「青少年和兒童已經有許多證據可以預防，小小孩打疫苗應該也是可以防MIS-C。」至於家長們應該選輝瑞還是莫德納？他表示，兩者資料目前很難互相比較。「我只能說：如果比較在乎有效性，建議打莫德納。如果比較在乎打完疫苗後發燒或不舒服，建議打輝瑞。」（即時新聞中心／綜合報導）\"\"\"\n",
        "news"
      ]
    },
    {
      "cell_type": "code",
      "execution_count": 35,
      "metadata": {
        "colab": {
          "base_uri": "https://localhost:8080/"
        },
        "id": "7CGDDBfg6wHP",
        "outputId": "b26a90cd-c9f9-461f-aecf-ed36d42693e8"
      },
      "outputs": [
        {
          "output_type": "stream",
          "name": "stderr",
          "text": [
            "Building prefix dict from /content/dict.txt.big ...\n",
            "Dumping model to file cache /tmp/jieba.u501edca284da514cb68b53a20324f4e3.cache\n",
            "Loading model cost 1.995 seconds.\n",
            "Prefix dict has been built successfully.\n"
          ]
        }
      ],
      "source": [
        "import jieba\n",
        "from urllib.request import urlretrieve\n",
        "url = \"https://github.com/fxsjy/jieba/raw/master/extra_dict/dict.txt.big\"\n",
        "urlretrieve(url, \"dict.txt.big\")\n",
        "jieba.set_dictionary(\"dict.txt.big\")\n",
        "jieba.load_userdict(\"dict.news.txt\")"
      ]
    },
    {
      "cell_type": "code",
      "execution_count": 36,
      "metadata": {
        "colab": {
          "base_uri": "https://localhost:8080/",
          "height": 191
        },
        "id": "XZAh1SkC9SMR",
        "outputId": "42512ea4-4409-4edb-d4c8-f28e0dab18dc"
      },
      "outputs": [
        {
          "output_type": "execute_result",
          "data": {
            "text/plain": [
              "'美國 食品 暨 藥物 管理局 （ FDA ） 周五 緊急 授權 ， 針對 5 歲 以下 幼童 可 注射 輝瑞 （ Pfizer ） 和 莫德納 （ Moderna ） 製造 的 COVID - 19 疫苗 。 食藥署 於 昨 召開 專家 會議 ， 決議 放行 6 個 月 至 5 歲 兒童 接種 莫德納 疫苗 緊急 授權 。 對此 ， 台大 前 醫師 林氏璧 認為 ， 「 小 小孩 打 疫苗 應該 也 是 可以 防 MIS - C 。 」 至於 家長 們 要 選 輝瑞 還是 莫德納 ？ 他 也 提供 自己 的 看法 供 家長 參考 。 \\n \\n 林氏璧 昨在 臉書 發文 指出 ， 要 強調 的 是 這是 免疫橋接 的 研究 ， 因此 人數 都 不 多 。 莫德納 是 4800 人 ， 輝瑞 是 3000 人 。 「 這裡 主要 是 看到 此 劑量 能 達到 和 大人 差不多 的 中 和 抗體 ， 但 關於 有效性 和 安全性 ， 都 還看 得 不夠 多 。 實際上 施打 之後 的 真實世界 保護 效益 研究 ， 還有 不良 事件 的 追蹤 ， 非常 重要 。 」 \\n \\n 林氏璧 說 ， 美國 FDA 若過 了 ， 接下來 台灣 應該 很快 也 會 通過 小 小孩 疫苗 的 （ 莫德納 昨 通過 EUA ） 。 「 你 一定 會問 我 小 小孩 疫苗 可以 防 重症 嗎 ？ 答案 是 理論 上 可以 ， 但 沒 資料 。 因為 這些 臨床 試驗 收案 人數 少 ， 產生 案例 少 ， 根本 沒有 發生 重症 和 死亡 。 會 不會 防 腦炎 ？ 更 無法回答 ， 因為 國外 幾乎 沒什麼 兒童 腦炎 呀 。 但 理論 上 我 想 是 可以 預防 的 。 」 \\n \\n 最近 MIS - C 案例 頻傳 ， 林氏璧 指出 ， 「 青少年 和 兒童 已經 有 許多 證據 可以 預防 ， 小 小孩 打 疫苗 應該 也 是 可以 防 MIS - C 。 」 至於 家長 們 應該 選 輝瑞 還是 莫德納 ？ 他 表示 ， 兩者 資料 目前 很難 互相 比較 。 「 我 只能 說 ： 如果 比較 在乎 有效性 ， 建議 打 莫德納 。 如果 比較 在乎 打 完 疫苗 後 發燒 或 不 舒服 ， 建議 打 輝瑞 。 」 （ 即時新聞 中心 ／ 綜合 報導 ）'"
            ],
            "application/vnd.google.colaboratory.intrinsic+json": {
              "type": "string"
            }
          },
          "metadata": {},
          "execution_count": 36
        }
      ],
      "source": [
        "\" \".join(jieba.cut(news))"
      ]
    },
    {
      "cell_type": "code",
      "execution_count": 37,
      "metadata": {
        "colab": {
          "base_uri": "https://localhost:8080/"
        },
        "id": "q4YdRPSG4A-f",
        "outputId": "70de36d6-c9bc-4b23-cb27-69b71030c548"
      },
      "outputs": [
        {
          "output_type": "execute_result",
          "data": {
            "text/plain": [
              "[('莫德納', 1.8596305004511111),\n",
              " ('疫苗', 1.1278397827495557),\n",
              " ('林氏璧', 1.0626460002577778),\n",
              " ('小孩', 0.6698601684551111),\n",
              " ('有效性', 0.3733075307302222),\n",
              " ('重症', 0.3706664898204444),\n",
              " ('案例', 0.3454056640853333),\n",
              " ('食藥', 0.26566150006444444),\n",
              " ('臉書', 0.26566150006444444),\n",
              " ('免疫橋接', 0.26566150006444444),\n",
              " ('中和', 0.26566150006444444),\n",
              " ('台灣', 0.26566150006444444),\n",
              " ('收案', 0.26566150006444444),\n",
              " ('幼童', 0.23922629857777775),\n",
              " ('台大', 0.19543849284622222),\n",
              " ('管理局', 0.18585207522133335),\n",
              " ('青少年', 0.18058058014288889),\n",
              " ('安全性', 0.1782254370128889),\n",
              " ('效益', 0.1608343323551111),\n",
              " ('答案', 0.1500692973508889),\n",
              " ('大人', 0.13986206935022222),\n",
              " ('食品', 0.130479346608),\n",
              " ('事件', 0.126583982974),\n",
              " ('中心', 0.10711342973466667)]"
            ]
          },
          "metadata": {},
          "execution_count": 37
        }
      ],
      "source": [
        "import jieba.analyse\n",
        "jieba.analyse.extract_tags(news)\n",
        "jieba.analyse.extract_tags(news, withWeight=True)\n",
        "jieba.analyse.extract_tags(news, withWeight=True, allowPOS=[\"nr\", \"ns\", \"nt\", \"nw\", \"nz\"])\n",
        "jieba.analyse.extract_tags(news, topK=None, withWeight=True, allowPOS=[\"n\", \"nr\", \"ns\", \"nt\", \"nw\", \"nz\"])"
      ]
    }
  ],
  "metadata": {
    "colab": {
      "name": "tools.ipynb",
      "provenance": [],
      "authorship_tag": "ABX9TyPoY+udz3fb4raE8SBhwyno",
      "include_colab_link": true
    },
    "kernelspec": {
      "display_name": "Python 3",
      "name": "python3"
    },
    "language_info": {
      "name": "python"
    }
  },
  "nbformat": 4,
  "nbformat_minor": 0
}