{
  "nbformat": 4,
  "nbformat_minor": 0,
  "metadata": {
    "colab": {
      "name": "cluster.ipynb",
      "provenance": [],
      "authorship_tag": "ABX9TyMXS7dzN1pRZHU8hBBLHcUb",
      "include_colab_link": true
    },
    "kernelspec": {
      "name": "python3",
      "display_name": "Python 3"
    },
    "language_info": {
      "name": "python"
    }
  },
  "cells": [
    {
      "cell_type": "markdown",
      "metadata": {
        "id": "view-in-github",
        "colab_type": "text"
      },
      "source": [
        "<a href=\"https://colab.research.google.com/github/MQsparrow/ml0616/blob/main/cluster.ipynb\" target=\"_parent\"><img src=\"https://colab.research.google.com/assets/colab-badge.svg\" alt=\"Open In Colab\"/></a>"
      ]
    },
    {
      "cell_type": "code",
      "execution_count": null,
      "metadata": {
        "id": "EshL7eqqm9WM"
      },
      "outputs": [],
      "source": [
        "import pandas as pd\n",
        "from sklearn.datasets import load_iris\n",
        "iris = load_iris()\n",
        "iris[\"data\"]"
      ]
    },
    {
      "cell_type": "code",
      "source": [
        "# k = 3\n",
        "from sklearn.cluster import KMeans\n",
        "cluster = KMeans(n_clusters=3)\n",
        "cluster.fit(iris[\"data\"])"
      ],
      "metadata": {
        "id": "kfgiSrvp1ssN"
      },
      "execution_count": null,
      "outputs": []
    },
    {
      "cell_type": "code",
      "source": [
        "cluster.cluster_centers_"
      ],
      "metadata": {
        "id": "uQ9QSBCP3Ovy"
      },
      "execution_count": null,
      "outputs": []
    },
    {
      "cell_type": "code",
      "source": [
        "# 分群 近似於 自行打上答案, 之後即可存取\n",
        "# 後續可用任何分類演算法\n",
        "import pandas as pd\n",
        "from sklearn.datasets import load_iris\n",
        "iris = load_iris()\n",
        "df = pd.DataFrame(iris[\"data\"], columns=iris[\"feature_names\"])\n",
        "df[\"labels\"] = cluster.labels_\n",
        "df"
      ],
      "metadata": {
        "id": "fpWEv8yq5TVf"
      },
      "execution_count": null,
      "outputs": []
    }
  ]
}